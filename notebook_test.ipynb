{
 "cells": [
  {
   "cell_type": "code",
   "execution_count": 1,
   "metadata": {},
   "outputs": [],
   "source": [
    "import sys\n",
    "sys.path.append(r\"C:\\Users\\CristianRojas\\Desktop\\Challenge\\Challenge Data Engineer\\Seccion_1\\app\")"
   ]
  },
  {
   "cell_type": "code",
   "execution_count": 1,
   "metadata": {},
   "outputs": [],
   "source": [
    "from app.database import SessionLocal, init_db\n",
    "from app.models import Department, Job, HiredEmployee"
   ]
  },
  {
   "cell_type": "code",
   "execution_count": 2,
   "metadata": {},
   "outputs": [
    {
     "name": "stdout",
     "output_type": "stream",
     "text": [
      "Requirement already satisfied: fastapi==0.115.12 in c:\\users\\cristianrojas\\appdata\\local\\programs\\python\\python310\\lib\\site-packages (from -r requirements.txt (line 1)) (0.115.12)\n",
      "Requirement already satisfied: uvicorn==0.34.2 in c:\\users\\cristianrojas\\appdata\\local\\programs\\python\\python310\\lib\\site-packages (from -r requirements.txt (line 2)) (0.34.2)\n",
      "Requirement already satisfied: pandas==2.2.3 in c:\\users\\cristianrojas\\appdata\\local\\programs\\python\\python310\\lib\\site-packages (from -r requirements.txt (line 3)) (2.2.3)\n",
      "Requirement already satisfied: sqlalchemy==2.0.40 in c:\\users\\cristianrojas\\appdata\\local\\programs\\python\\python310\\lib\\site-packages (from -r requirements.txt (line 4)) (2.0.40)\n",
      "Requirement already satisfied: numexpr==2.8.4 in c:\\users\\cristianrojas\\appdata\\local\\programs\\python\\python310\\lib\\site-packages (from -r requirements.txt (line 5)) (2.8.4)\n",
      "Requirement already satisfied: ipython-sql==0.5.0 in c:\\users\\cristianrojas\\appdata\\local\\programs\\python\\python310\\lib\\site-packages (from -r requirements.txt (line 6)) (0.5.0)\n",
      "Requirement already satisfied: numpy==1.26.4 in c:\\users\\cristianrojas\\appdata\\local\\programs\\python\\python310\\lib\\site-packages (from -r requirements.txt (line 7)) (1.26.4)\n",
      "Requirement already satisfied: starlette<0.47.0,>=0.40.0 in c:\\users\\cristianrojas\\appdata\\local\\programs\\python\\python310\\lib\\site-packages (from fastapi==0.115.12->-r requirements.txt (line 1)) (0.46.2)\n",
      "Requirement already satisfied: pydantic!=1.8,!=1.8.1,!=2.0.0,!=2.0.1,!=2.1.0,<3.0.0,>=1.7.4 in c:\\users\\cristianrojas\\appdata\\local\\programs\\python\\python310\\lib\\site-packages (from fastapi==0.115.12->-r requirements.txt (line 1)) (2.11.4)\n",
      "Requirement already satisfied: typing-extensions>=4.8.0 in c:\\users\\cristianrojas\\appdata\\local\\programs\\python\\python310\\lib\\site-packages (from fastapi==0.115.12->-r requirements.txt (line 1)) (4.13.2)\n",
      "Requirement already satisfied: click>=7.0 in c:\\users\\cristianrojas\\appdata\\local\\programs\\python\\python310\\lib\\site-packages (from uvicorn==0.34.2->-r requirements.txt (line 2)) (8.1.3)\n",
      "Requirement already satisfied: h11>=0.8 in c:\\users\\cristianrojas\\appdata\\local\\programs\\python\\python310\\lib\\site-packages (from uvicorn==0.34.2->-r requirements.txt (line 2)) (0.14.0)\n",
      "Requirement already satisfied: python-dateutil>=2.8.2 in c:\\users\\cristianrojas\\appdata\\local\\programs\\python\\python310\\lib\\site-packages (from pandas==2.2.3->-r requirements.txt (line 3)) (2.8.2)\n",
      "Requirement already satisfied: pytz>=2020.1 in c:\\users\\cristianrojas\\appdata\\local\\programs\\python\\python310\\lib\\site-packages (from pandas==2.2.3->-r requirements.txt (line 3)) (2024.2)\n",
      "Requirement already satisfied: tzdata>=2022.7 in c:\\users\\cristianrojas\\appdata\\local\\programs\\python\\python310\\lib\\site-packages (from pandas==2.2.3->-r requirements.txt (line 3)) (2025.2)\n",
      "Requirement already satisfied: greenlet>=1 in c:\\users\\cristianrojas\\appdata\\local\\programs\\python\\python310\\lib\\site-packages (from sqlalchemy==2.0.40->-r requirements.txt (line 4)) (3.2.2)\n",
      "Requirement already satisfied: prettytable in c:\\users\\cristianrojas\\appdata\\local\\programs\\python\\python310\\lib\\site-packages (from ipython-sql==0.5.0->-r requirements.txt (line 6)) (3.16.0)\n",
      "Requirement already satisfied: ipython in c:\\users\\cristianrojas\\appdata\\local\\programs\\python\\python310\\lib\\site-packages (from ipython-sql==0.5.0->-r requirements.txt (line 6)) (7.30.1)\n",
      "Requirement already satisfied: sqlparse in c:\\users\\cristianrojas\\appdata\\local\\programs\\python\\python310\\lib\\site-packages (from ipython-sql==0.5.0->-r requirements.txt (line 6)) (0.5.3)\n",
      "Requirement already satisfied: six in c:\\users\\cristianrojas\\appdata\\local\\programs\\python\\python310\\lib\\site-packages (from ipython-sql==0.5.0->-r requirements.txt (line 6)) (1.16.0)\n",
      "Requirement already satisfied: ipython-genutils in c:\\users\\cristianrojas\\appdata\\local\\programs\\python\\python310\\lib\\site-packages (from ipython-sql==0.5.0->-r requirements.txt (line 6)) (0.2.0)\n",
      "Requirement already satisfied: annotated-types>=0.6.0 in c:\\users\\cristianrojas\\appdata\\local\\programs\\python\\python310\\lib\\site-packages (from pydantic!=1.8,!=1.8.1,!=2.0.0,!=2.0.1,!=2.1.0,<3.0.0,>=1.7.4->fastapi==0.115.12->-r requirements.txt (line 1)) (0.7.0)\n",
      "Requirement already satisfied: pydantic-core==2.33.2 in c:\\users\\cristianrojas\\appdata\\local\\programs\\python\\python310\\lib\\site-packages (from pydantic!=1.8,!=1.8.1,!=2.0.0,!=2.0.1,!=2.1.0,<3.0.0,>=1.7.4->fastapi==0.115.12->-r requirements.txt (line 1)) (2.33.2)\n",
      "Requirement already satisfied: typing-inspection>=0.4.0 in c:\\users\\cristianrojas\\appdata\\local\\programs\\python\\python310\\lib\\site-packages (from pydantic!=1.8,!=1.8.1,!=2.0.0,!=2.0.1,!=2.1.0,<3.0.0,>=1.7.4->fastapi==0.115.12->-r requirements.txt (line 1)) (0.4.0)\n",
      "Requirement already satisfied: anyio<5,>=3.6.2 in c:\\users\\cristianrojas\\appdata\\local\\programs\\python\\python310\\lib\\site-packages (from starlette<0.47.0,>=0.40.0->fastapi==0.115.12->-r requirements.txt (line 1)) (3.6.2)\n",
      "Requirement already satisfied: idna>=2.8 in c:\\users\\cristianrojas\\appdata\\local\\programs\\python\\python310\\lib\\site-packages (from anyio<5,>=3.6.2->starlette<0.47.0,>=0.40.0->fastapi==0.115.12->-r requirements.txt (line 1)) (3.3)\n",
      "Requirement already satisfied: sniffio>=1.1 in c:\\users\\cristianrojas\\appdata\\local\\programs\\python\\python310\\lib\\site-packages (from anyio<5,>=3.6.2->starlette<0.47.0,>=0.40.0->fastapi==0.115.12->-r requirements.txt (line 1)) (1.3.0)\n",
      "Requirement already satisfied: colorama in c:\\users\\cristianrojas\\appdata\\local\\programs\\python\\python310\\lib\\site-packages (from click>=7.0->uvicorn==0.34.2->-r requirements.txt (line 2)) (0.4.4)\n",
      "Requirement already satisfied: setuptools>=18.5 in c:\\users\\cristianrojas\\appdata\\local\\programs\\python\\python310\\lib\\site-packages (from ipython->ipython-sql==0.5.0->-r requirements.txt (line 6)) (75.6.0)\n",
      "Requirement already satisfied: jedi>=0.16 in c:\\users\\cristianrojas\\appdata\\local\\programs\\python\\python310\\lib\\site-packages (from ipython->ipython-sql==0.5.0->-r requirements.txt (line 6)) (0.18.1)\n",
      "Requirement already satisfied: decorator in c:\\users\\cristianrojas\\appdata\\local\\programs\\python\\python310\\lib\\site-packages (from ipython->ipython-sql==0.5.0->-r requirements.txt (line 6)) (5.1.0)\n",
      "Requirement already satisfied: pickleshare in c:\\users\\cristianrojas\\appdata\\local\\programs\\python\\python310\\lib\\site-packages (from ipython->ipython-sql==0.5.0->-r requirements.txt (line 6)) (0.7.5)\n",
      "Requirement already satisfied: traitlets>=4.2 in c:\\users\\cristianrojas\\appdata\\local\\programs\\python\\python310\\lib\\site-packages (from ipython->ipython-sql==0.5.0->-r requirements.txt (line 6)) (5.14.3)\n",
      "Requirement already satisfied: prompt-toolkit!=3.0.0,!=3.0.1,<3.1.0,>=2.0.0 in c:\\users\\cristianrojas\\appdata\\local\\programs\\python\\python310\\lib\\site-packages (from ipython->ipython-sql==0.5.0->-r requirements.txt (line 6)) (3.0.24)\n",
      "Requirement already satisfied: pygments in c:\\users\\cristianrojas\\appdata\\local\\programs\\python\\python310\\lib\\site-packages (from ipython->ipython-sql==0.5.0->-r requirements.txt (line 6)) (2.10.0)\n",
      "Requirement already satisfied: backcall in c:\\users\\cristianrojas\\appdata\\local\\programs\\python\\python310\\lib\\site-packages (from ipython->ipython-sql==0.5.0->-r requirements.txt (line 6)) (0.2.0)\n",
      "Requirement already satisfied: matplotlib-inline in c:\\users\\cristianrojas\\appdata\\local\\programs\\python\\python310\\lib\\site-packages (from ipython->ipython-sql==0.5.0->-r requirements.txt (line 6)) (0.1.3)\n",
      "Requirement already satisfied: wcwidth in c:\\users\\cristianrojas\\appdata\\local\\programs\\python\\python310\\lib\\site-packages (from prompt-toolkit!=3.0.0,!=3.0.1,<3.1.0,>=2.0.0->ipython->ipython-sql==0.5.0->-r requirements.txt (line 6)) (0.2.5)\n",
      "Requirement already satisfied: parso<0.9.0,>=0.8.0 in c:\\users\\cristianrojas\\appdata\\local\\programs\\python\\python310\\lib\\site-packages (from jedi>=0.16->ipython->ipython-sql==0.5.0->-r requirements.txt (line 6)) (0.8.3)\n"
     ]
    }
   ],
   "source": [
    "!pip install -r requirements.txt\n"
   ]
  },
  {
   "cell_type": "code",
   "execution_count": null,
   "metadata": {},
   "outputs": [
    {
     "name": "stdout",
     "output_type": "stream",
     "text": [
      "Requirement already satisfied: pip in c:\\users\\cristianrojas\\appdata\\local\\programs\\python\\python310\\lib\\site-packages (25.1.1)\n",
      "Note: you may need to restart the kernel to use updated packages.\n"
     ]
    }
   ],
   "source": [
    "# pip install --upgrade pip\n"
   ]
  },
  {
   "cell_type": "code",
   "execution_count": 3,
   "metadata": {},
   "outputs": [],
   "source": [
    "# uvicorn app.main:app --reload"
   ]
  },
  {
   "cell_type": "code",
   "execution_count": 4,
   "metadata": {},
   "outputs": [
    {
     "data": {
      "text/plain": [
       "{'message': 'API funcionando correctamente'}"
      ]
     },
     "execution_count": 4,
     "metadata": {},
     "output_type": "execute_result"
    }
   ],
   "source": [
    "from fastapi import FastAPI\n",
    "\n",
    "app = FastAPI()\n",
    "\n",
    "@app.get(\"/\")\n",
    "def read_root():\n",
    "    return {\"message\": \"API funcionando correctamente\"}\n",
    "\n",
    "read_root()"
   ]
  },
  {
   "cell_type": "code",
   "execution_count": 5,
   "metadata": {},
   "outputs": [],
   "source": [
    "from app.database import init_db\n",
    "init_db()"
   ]
  },
  {
   "cell_type": "code",
   "execution_count": 6,
   "metadata": {},
   "outputs": [
    {
     "name": "stdout",
     "output_type": "stream",
     "text": [
      "['departments', 'hired_employees', 'jobs']\n"
     ]
    }
   ],
   "source": [
    "from sqlalchemy import inspect\n",
    "from app.database import engine\n",
    "\n",
    "inspector = inspect(engine)\n",
    "print(inspector.get_table_names())"
   ]
  },
  {
   "cell_type": "code",
   "execution_count": 1,
   "metadata": {},
   "outputs": [
    {
     "name": "stdout",
     "output_type": "stream",
     "text": [
      "[<app.models.Department object at 0x000001B0A3EAB760>, <app.models.Department object at 0x000001B0A3EAB700>, <app.models.Department object at 0x000001B0A3EAB820>, <app.models.Department object at 0x000001B0A3EAB880>, <app.models.Department object at 0x000001B0A3EAB8E0>, <app.models.Department object at 0x000001B0A3EAB940>, <app.models.Department object at 0x000001B0A3EABA90>, <app.models.Department object at 0x000001B0A3EABAF0>, <app.models.Department object at 0x000001B0A3EABB50>, <app.models.Department object at 0x000001B0A3EABD30>, <app.models.Department object at 0x000001B0A3EABD90>, <app.models.Department object at 0x000001B0A3EABDF0>]\n"
     ]
    }
   ],
   "source": [
    "import sys\n",
    "sys.path.append(\"C:/Users/CristianRojas/Desktop/Challenge/Challenge Data Engineer/Seccion_1/\")\n",
    "from app.database import SessionLocal\n",
    "from app.models import Department, Job, HiredEmployee\n",
    "\n",
    "# Ejemplo: iniciar sesión y consultar datos\n",
    "db = SessionLocal()\n",
    "print(db.query(Department).all())"
   ]
  },
  {
   "cell_type": "code",
   "execution_count": 2,
   "metadata": {},
   "outputs": [
    {
     "name": "stdout",
     "output_type": "stream",
     "text": [
      "{'id': 1, 'department': 'Product Management'}\n",
      "{'id': 2, 'department': 'Sales'}\n",
      "{'id': 3, 'department': 'Research and Development'}\n",
      "{'id': 4, 'department': 'Business Development'}\n",
      "{'id': 5, 'department': 'Engineering'}\n",
      "{'id': 6, 'department': 'Human Resources'}\n",
      "{'id': 7, 'department': 'Services'}\n",
      "{'id': 8, 'department': 'Support'}\n",
      "{'id': 9, 'department': 'Marketing'}\n",
      "{'id': 10, 'department': 'Training'}\n",
      "{'id': 11, 'department': 'Legal'}\n",
      "{'id': 12, 'department': 'Accounting'}\n"
     ]
    }
   ],
   "source": [
    "departments = db.query(Department).all()\n",
    "for dept in departments:\n",
    "    print({\"id\": dept.id, \"department\": dept.department})\n"
   ]
  },
  {
   "cell_type": "code",
   "execution_count": 3,
   "metadata": {},
   "outputs": [],
   "source": [
    "import pandas as pd\n",
    "from app.database import engine    # necesitamos el engine"
   ]
  },
  {
   "cell_type": "code",
   "execution_count": 4,
   "metadata": {},
   "outputs": [
    {
     "data": {
      "application/vnd.microsoft.datawrangler.viewer.v0+json": {
       "columns": [
        {
         "name": "index",
         "rawType": "int64",
         "type": "integer"
        },
        {
         "name": "id",
         "rawType": "int64",
         "type": "integer"
        },
        {
         "name": "job",
         "rawType": "object",
         "type": "string"
        }
       ],
       "conversionMethod": "pd.DataFrame",
       "ref": "4b0a573f-10a0-44aa-851b-4ee2a50aa411",
       "rows": [
        [
         "0",
         "1",
         "Marketing Assistant"
        ],
        [
         "1",
         "2",
         "VP Sales"
        ],
        [
         "2",
         "3",
         "Biostatistician IV"
        ],
        [
         "3",
         "4",
         "Account Representative II"
        ],
        [
         "4",
         "5",
         "VP Marketing"
        ],
        [
         "5",
         "6",
         "Environmental Specialist"
        ],
        [
         "6",
         "7",
         "Software Consultant"
        ],
        [
         "7",
         "8",
         "Office Assistant III"
        ],
        [
         "8",
         "9",
         "Information Systems Manager"
        ],
        [
         "9",
         "10",
         "Desktop Support Technician"
        ],
        [
         "10",
         "11",
         "Financial Advisor"
        ],
        [
         "11",
         "12",
         "Computer Systems Analyst I"
        ],
        [
         "12",
         "13",
         "Automation Specialist IV"
        ],
        [
         "13",
         "14",
         "Help Desk Technician"
        ],
        [
         "14",
         "15",
         "Office Assistant II"
        ],
        [
         "15",
         "16",
         "VP Quality Control"
        ],
        [
         "16",
         "17",
         "Office Assistant IV"
        ],
        [
         "17",
         "18",
         "Financial Analyst"
        ],
        [
         "18",
         "19",
         "Electrical Engineer"
        ],
        [
         "19",
         "20",
         "Chemical Engineer"
        ],
        [
         "20",
         "21",
         "Social Worker"
        ],
        [
         "21",
         "22",
         "VP Product Management"
        ],
        [
         "22",
         "23",
         "Administrative Officer"
        ],
        [
         "23",
         "24",
         "Paralegal"
        ],
        [
         "24",
         "25",
         "Actuary"
        ],
        [
         "25",
         "26",
         "Database Administrator I"
        ],
        [
         "26",
         "27",
         "Nuclear Power Engineer"
        ],
        [
         "27",
         "28",
         "Database Administrator II"
        ],
        [
         "28",
         "29",
         "GIS Technical Architect"
        ],
        [
         "29",
         "30",
         "Human Resources Assistant IV"
        ],
        [
         "30",
         "31",
         "Marketing Manager"
        ],
        [
         "31",
         "32",
         "Structural Engineer"
        ],
        [
         "32",
         "33",
         "General Manager"
        ],
        [
         "33",
         "34",
         "Chief Design Engineer"
        ],
        [
         "34",
         "35",
         "Senior Quality Engineer"
        ],
        [
         "35",
         "36",
         "Pharmacist"
        ],
        [
         "36",
         "37",
         "Accounting Assistant IV"
        ],
        [
         "37",
         "38",
         "Web Developer I"
        ],
        [
         "38",
         "39",
         "Automation Specialist I"
        ],
        [
         "39",
         "40",
         "Assistant Manager"
        ],
        [
         "40",
         "41",
         "Director of Sales"
        ],
        [
         "41",
         "42",
         "Systems Administrator II"
        ],
        [
         "42",
         "43",
         "Geological Engineer"
        ],
        [
         "43",
         "44",
         "Staff Accountant IV"
        ],
        [
         "44",
         "45",
         "Senior Cost Accountant"
        ],
        [
         "45",
         "46",
         "Geologist IV"
        ],
        [
         "46",
         "47",
         "Graphic Designer"
        ],
        [
         "47",
         "48",
         "Account Executive"
        ],
        [
         "48",
         "49",
         "Staff Scientist"
        ],
        [
         "49",
         "50",
         "VP Accounting"
        ]
       ],
       "shape": {
        "columns": 2,
        "rows": 183
       }
      },
      "text/html": [
       "<div>\n",
       "<style scoped>\n",
       "    .dataframe tbody tr th:only-of-type {\n",
       "        vertical-align: middle;\n",
       "    }\n",
       "\n",
       "    .dataframe tbody tr th {\n",
       "        vertical-align: top;\n",
       "    }\n",
       "\n",
       "    .dataframe thead th {\n",
       "        text-align: right;\n",
       "    }\n",
       "</style>\n",
       "<table border=\"1\" class=\"dataframe\">\n",
       "  <thead>\n",
       "    <tr style=\"text-align: right;\">\n",
       "      <th></th>\n",
       "      <th>id</th>\n",
       "      <th>job</th>\n",
       "    </tr>\n",
       "  </thead>\n",
       "  <tbody>\n",
       "    <tr>\n",
       "      <th>0</th>\n",
       "      <td>1</td>\n",
       "      <td>Marketing Assistant</td>\n",
       "    </tr>\n",
       "    <tr>\n",
       "      <th>1</th>\n",
       "      <td>2</td>\n",
       "      <td>VP Sales</td>\n",
       "    </tr>\n",
       "    <tr>\n",
       "      <th>2</th>\n",
       "      <td>3</td>\n",
       "      <td>Biostatistician IV</td>\n",
       "    </tr>\n",
       "    <tr>\n",
       "      <th>3</th>\n",
       "      <td>4</td>\n",
       "      <td>Account Representative II</td>\n",
       "    </tr>\n",
       "    <tr>\n",
       "      <th>4</th>\n",
       "      <td>5</td>\n",
       "      <td>VP Marketing</td>\n",
       "    </tr>\n",
       "    <tr>\n",
       "      <th>...</th>\n",
       "      <td>...</td>\n",
       "      <td>...</td>\n",
       "    </tr>\n",
       "    <tr>\n",
       "      <th>178</th>\n",
       "      <td>179</td>\n",
       "      <td>Software Engineer II</td>\n",
       "    </tr>\n",
       "    <tr>\n",
       "      <th>179</th>\n",
       "      <td>180</td>\n",
       "      <td>Statistician IV</td>\n",
       "    </tr>\n",
       "    <tr>\n",
       "      <th>180</th>\n",
       "      <td>181</td>\n",
       "      <td>Programmer Analyst I</td>\n",
       "    </tr>\n",
       "    <tr>\n",
       "      <th>181</th>\n",
       "      <td>182</td>\n",
       "      <td>Account Representative I</td>\n",
       "    </tr>\n",
       "    <tr>\n",
       "      <th>182</th>\n",
       "      <td>183</td>\n",
       "      <td>Administrative Assistant IV</td>\n",
       "    </tr>\n",
       "  </tbody>\n",
       "</table>\n",
       "<p>183 rows × 2 columns</p>\n",
       "</div>"
      ],
      "text/plain": [
       "      id                          job\n",
       "0      1          Marketing Assistant\n",
       "1      2                     VP Sales\n",
       "2      3           Biostatistician IV\n",
       "3      4    Account Representative II\n",
       "4      5                 VP Marketing\n",
       "..   ...                          ...\n",
       "178  179         Software Engineer II\n",
       "179  180              Statistician IV\n",
       "180  181         Programmer Analyst I\n",
       "181  182     Account Representative I\n",
       "182  183  Administrative Assistant IV\n",
       "\n",
       "[183 rows x 2 columns]"
      ]
     },
     "metadata": {},
     "output_type": "display_data"
    }
   ],
   "source": [
    "# Ejemplo: leemos la tabla completa de jobs\n",
    "jobs = pd.read_sql_query(\"SELECT * FROM jobs\", engine)\n",
    "display(jobs)"
   ]
  },
  {
   "cell_type": "code",
   "execution_count": 5,
   "metadata": {},
   "outputs": [
    {
     "data": {
      "application/vnd.microsoft.datawrangler.viewer.v0+json": {
       "columns": [
        {
         "name": "index",
         "rawType": "int64",
         "type": "integer"
        },
        {
         "name": "id",
         "rawType": "int64",
         "type": "integer"
        },
        {
         "name": "name",
         "rawType": "object",
         "type": "string"
        },
        {
         "name": "datetime",
         "rawType": "object",
         "type": "unknown"
        },
        {
         "name": "department_id",
         "rawType": "int64",
         "type": "integer"
        },
        {
         "name": "job_id",
         "rawType": "int64",
         "type": "integer"
        }
       ],
       "conversionMethod": "pd.DataFrame",
       "ref": "3a793f13-3153-423a-9dcc-a560da114e99",
       "rows": [
        [
         "0",
         "1",
         "Harold Vogt",
         "2021-11-07 02:48:42.000000",
         "2",
         "96"
        ],
        [
         "1",
         "3",
         "Lyman Hadye",
         "2021-09-01 23:27:38.000000",
         "5",
         "52"
        ],
        [
         "2",
         "4",
         "Lotti Crowthe",
         "2021-10-01 13:04:21.000000",
         "12",
         "71"
        ],
        [
         "3",
         "5",
         "Gretna Lording",
         "2021-10-10 22:22:17.000000",
         "6",
         "80"
        ],
        [
         "4",
         "6",
         "Marlow Antecki",
         "2021-04-23 23:45:42.000000",
         "6",
         "95"
        ],
        [
         "5",
         "7",
         "Joan Rillett",
         "2021-10-10 01:33:31.000000",
         "9",
         "78"
        ],
        [
         "6",
         "8",
         "Ulrick Nucciotti",
         "2021-07-24 01:28:40.000000",
         "8",
         "169"
        ],
        [
         "7",
         "9",
         "Lucretia Northcote",
         "2021-04-01 21:22:47.000000",
         "9",
         "8"
        ],
        [
         "8",
         "10",
         "Arty Giacobo",
         "2022-02-08 12:27:07.000000",
         "6",
         "62"
        ],
        [
         "9",
         "11",
         "Libbi Dowtry",
         "2021-07-05 04:55:10.000000",
         "6",
         "41"
        ],
        [
         "10",
         "12",
         "Jacky Oldred",
         "2021-06-20 11:59:41.000000",
         "7",
         "29"
        ],
        [
         "11",
         "13",
         "Raine Mowett",
         "2021-12-23 08:23:34.000000",
         "8",
         "83"
        ],
        [
         "12",
         "14",
         "Melonie Slocomb",
         "2021-12-30 23:08:59.000000",
         "12",
         "121"
        ],
        [
         "13",
         "15",
         "Robers Swinden",
         "2021-02-16 20:00:38.000000",
         "5",
         "47"
        ],
        [
         "14",
         "16",
         "Bone Serridge",
         "2021-06-21 09:11:06.000000",
         "8",
         "121"
        ],
        [
         "15",
         "17",
         "Andee Tillot",
         "2021-04-01 10:28:22.000000",
         "8",
         "65"
        ],
        [
         "16",
         "18",
         "Gay Philbin",
         "2021-12-24 13:40:11.000000",
         "6",
         "102"
        ],
        [
         "17",
         "19",
         "Loralie Dundin",
         "2021-10-19 20:10:46.000000",
         "8",
         "68"
        ],
        [
         "18",
         "20",
         "Tobi Lawton",
         "2022-02-20 07:46:22.000000",
         "6",
         "85"
        ],
        [
         "19",
         "21",
         "Mandel Nayer",
         "2021-12-18 22:55:26.000000",
         "2",
         "121"
        ],
        [
         "20",
         "22",
         "Toddy Gare",
         "2021-12-05 18:00:50.000000",
         "5",
         "25"
        ],
        [
         "21",
         "23",
         "Jeremias Goudy",
         "2021-10-01 08:16:32.000000",
         "7",
         "36"
        ],
        [
         "22",
         "24",
         "Lemar Aronsohn",
         "2021-07-13 15:39:49.000000",
         "8",
         "93"
        ],
        [
         "23",
         "25",
         "Tanner Jopling",
         "2021-10-16 05:41:59.000000",
         "10",
         "53"
        ],
        [
         "24",
         "26",
         "Bartolomeo Fetherstone",
         "2021-02-07 09:03:49.000000",
         "5",
         "65"
        ],
        [
         "25",
         "27",
         "Elvina Bycraft",
         "2021-09-29 20:34:33.000000",
         "7",
         "74"
        ],
        [
         "26",
         "28",
         "Letitia Bastin",
         "2021-11-20 15:33:14.000000",
         "6",
         "134"
        ],
        [
         "27",
         "29",
         "Warner Astbury",
         "2021-08-30 17:22:09.000000",
         "6",
         "67"
        ],
        [
         "28",
         "30",
         "Geri Pennings",
         "2022-02-16 21:08:33.000000",
         "4",
         "33"
        ],
        [
         "29",
         "31",
         "Jerald Gilder",
         "2022-01-15 02:33:31.000000",
         "4",
         "74"
        ],
        [
         "30",
         "32",
         "Wilt Di Francesco",
         "2021-09-26 21:51:10.000000",
         "9",
         "82"
        ],
        [
         "31",
         "33",
         "Aldwin Hellmore",
         "2021-09-27 11:12:00.000000",
         "10",
         "49"
        ],
        [
         "32",
         "34",
         "Corena Heritege",
         "2021-05-08 01:43:42.000000",
         "4",
         "31"
        ],
        [
         "33",
         "35",
         "Malchy Pontain",
         "2022-02-20 10:39:43.000000",
         "11",
         "178"
        ],
        [
         "34",
         "36",
         "Gasparo Ofen",
         "2021-11-07 11:41:10.000000",
         "4",
         "57"
        ],
        [
         "35",
         "37",
         "Nikkie Whinray",
         "2021-12-30 05:37:33.000000",
         "7",
         "114"
        ],
        [
         "36",
         "38",
         "Louisa Binion",
         "2021-02-11 14:29:26.000000",
         "8",
         "54"
        ],
        [
         "37",
         "39",
         "Brook Tant",
         "2021-09-27 12:50:01.000000",
         "10",
         "113"
        ],
        [
         "38",
         "40",
         "Cly Butt",
         "2022-01-01 06:33:57.000000",
         "8",
         "75"
        ],
        [
         "39",
         "41",
         "Jena Iacomi",
         "2021-05-04 19:49:00.000000",
         "9",
         "37"
        ],
        [
         "40",
         "42",
         "Pail Syne",
         "2021-09-14 03:08:04.000000",
         "7",
         "26"
        ],
        [
         "41",
         "43",
         "Agneta Rae",
         "2021-09-29 12:36:18.000000",
         "3",
         "51"
        ],
        [
         "42",
         "44",
         "Lanae Pedrozzi",
         "2021-05-14 18:26:59.000000",
         "5",
         "118"
        ],
        [
         "43",
         "45",
         "Gipsy Cabrera",
         "2021-12-17 11:47:44.000000",
         "12",
         "138"
        ],
        [
         "44",
         "46",
         "Philly Beecraft",
         "2021-03-03 14:48:53.000000",
         "8",
         "59"
        ],
        [
         "45",
         "47",
         "Jimmie Jack",
         "2021-02-04 07:50:18.000000",
         "4",
         "64"
        ],
        [
         "46",
         "48",
         "Lonee Hegden",
         "2021-06-07 09:12:33.000000",
         "10",
         "58"
        ],
        [
         "47",
         "49",
         "Annecorinne Verny",
         "2021-05-08 23:05:13.000000",
         "9",
         "140"
        ],
        [
         "48",
         "50",
         "Marybelle Henrichsen",
         "2021-06-17 10:02:48.000000",
         "10",
         "53"
        ],
        [
         "49",
         "51",
         "Moe Kender",
         "2022-02-03 08:06:34.000000",
         "7",
         "35"
        ]
       ],
       "shape": {
        "columns": 5,
        "rows": 1943
       }
      },
      "text/html": [
       "<div>\n",
       "<style scoped>\n",
       "    .dataframe tbody tr th:only-of-type {\n",
       "        vertical-align: middle;\n",
       "    }\n",
       "\n",
       "    .dataframe tbody tr th {\n",
       "        vertical-align: top;\n",
       "    }\n",
       "\n",
       "    .dataframe thead th {\n",
       "        text-align: right;\n",
       "    }\n",
       "</style>\n",
       "<table border=\"1\" class=\"dataframe\">\n",
       "  <thead>\n",
       "    <tr style=\"text-align: right;\">\n",
       "      <th></th>\n",
       "      <th>id</th>\n",
       "      <th>name</th>\n",
       "      <th>datetime</th>\n",
       "      <th>department_id</th>\n",
       "      <th>job_id</th>\n",
       "    </tr>\n",
       "  </thead>\n",
       "  <tbody>\n",
       "    <tr>\n",
       "      <th>0</th>\n",
       "      <td>1</td>\n",
       "      <td>Harold Vogt</td>\n",
       "      <td>2021-11-07 02:48:42.000000</td>\n",
       "      <td>2</td>\n",
       "      <td>96</td>\n",
       "    </tr>\n",
       "    <tr>\n",
       "      <th>1</th>\n",
       "      <td>3</td>\n",
       "      <td>Lyman Hadye</td>\n",
       "      <td>2021-09-01 23:27:38.000000</td>\n",
       "      <td>5</td>\n",
       "      <td>52</td>\n",
       "    </tr>\n",
       "    <tr>\n",
       "      <th>2</th>\n",
       "      <td>4</td>\n",
       "      <td>Lotti Crowthe</td>\n",
       "      <td>2021-10-01 13:04:21.000000</td>\n",
       "      <td>12</td>\n",
       "      <td>71</td>\n",
       "    </tr>\n",
       "    <tr>\n",
       "      <th>3</th>\n",
       "      <td>5</td>\n",
       "      <td>Gretna Lording</td>\n",
       "      <td>2021-10-10 22:22:17.000000</td>\n",
       "      <td>6</td>\n",
       "      <td>80</td>\n",
       "    </tr>\n",
       "    <tr>\n",
       "      <th>4</th>\n",
       "      <td>6</td>\n",
       "      <td>Marlow Antecki</td>\n",
       "      <td>2021-04-23 23:45:42.000000</td>\n",
       "      <td>6</td>\n",
       "      <td>95</td>\n",
       "    </tr>\n",
       "    <tr>\n",
       "      <th>...</th>\n",
       "      <td>...</td>\n",
       "      <td>...</td>\n",
       "      <td>...</td>\n",
       "      <td>...</td>\n",
       "      <td>...</td>\n",
       "    </tr>\n",
       "    <tr>\n",
       "      <th>1938</th>\n",
       "      <td>1995</td>\n",
       "      <td>Goran Yong</td>\n",
       "      <td>2021-08-22 21:57:53.000000</td>\n",
       "      <td>2</td>\n",
       "      <td>83</td>\n",
       "    </tr>\n",
       "    <tr>\n",
       "      <th>1939</th>\n",
       "      <td>1996</td>\n",
       "      <td>Cirstoforo Youings</td>\n",
       "      <td>2021-04-01 17:48:42.000000</td>\n",
       "      <td>3</td>\n",
       "      <td>23</td>\n",
       "    </tr>\n",
       "    <tr>\n",
       "      <th>1940</th>\n",
       "      <td>1997</td>\n",
       "      <td>Wilek Yurkevich</td>\n",
       "      <td>2021-05-04 12:19:50.000000</td>\n",
       "      <td>2</td>\n",
       "      <td>132</td>\n",
       "    </tr>\n",
       "    <tr>\n",
       "      <th>1941</th>\n",
       "      <td>1998</td>\n",
       "      <td>Jerry Yven</td>\n",
       "      <td>2021-10-03 14:12:50.000000</td>\n",
       "      <td>7</td>\n",
       "      <td>100</td>\n",
       "    </tr>\n",
       "    <tr>\n",
       "      <th>1942</th>\n",
       "      <td>1999</td>\n",
       "      <td>Jerri Zebedee</td>\n",
       "      <td>2022-01-18 10:47:37.000000</td>\n",
       "      <td>8</td>\n",
       "      <td>80</td>\n",
       "    </tr>\n",
       "  </tbody>\n",
       "</table>\n",
       "<p>1943 rows × 5 columns</p>\n",
       "</div>"
      ],
      "text/plain": [
       "        id                name                    datetime  department_id  \\\n",
       "0        1         Harold Vogt  2021-11-07 02:48:42.000000              2   \n",
       "1        3         Lyman Hadye  2021-09-01 23:27:38.000000              5   \n",
       "2        4       Lotti Crowthe  2021-10-01 13:04:21.000000             12   \n",
       "3        5      Gretna Lording  2021-10-10 22:22:17.000000              6   \n",
       "4        6      Marlow Antecki  2021-04-23 23:45:42.000000              6   \n",
       "...    ...                 ...                         ...            ...   \n",
       "1938  1995          Goran Yong  2021-08-22 21:57:53.000000              2   \n",
       "1939  1996  Cirstoforo Youings  2021-04-01 17:48:42.000000              3   \n",
       "1940  1997     Wilek Yurkevich  2021-05-04 12:19:50.000000              2   \n",
       "1941  1998          Jerry Yven  2021-10-03 14:12:50.000000              7   \n",
       "1942  1999       Jerri Zebedee  2022-01-18 10:47:37.000000              8   \n",
       "\n",
       "      job_id  \n",
       "0         96  \n",
       "1         52  \n",
       "2         71  \n",
       "3         80  \n",
       "4         95  \n",
       "...      ...  \n",
       "1938      83  \n",
       "1939      23  \n",
       "1940     132  \n",
       "1941     100  \n",
       "1942      80  \n",
       "\n",
       "[1943 rows x 5 columns]"
      ]
     },
     "metadata": {},
     "output_type": "display_data"
    }
   ],
   "source": [
    "\n",
    "# Ejemplo: leemos la tabla completa de hired_employees\n",
    "hired_employees = pd.read_sql_query(\"SELECT * FROM hired_employees\", engine)\n",
    "display(hired_employees)"
   ]
  },
  {
   "cell_type": "code",
   "execution_count": 6,
   "metadata": {},
   "outputs": [
    {
     "data": {
      "application/vnd.microsoft.datawrangler.viewer.v0+json": {
       "columns": [
        {
         "name": "index",
         "rawType": "int64",
         "type": "integer"
        },
        {
         "name": "id",
         "rawType": "int64",
         "type": "integer"
        },
        {
         "name": "department",
         "rawType": "object",
         "type": "string"
        }
       ],
       "conversionMethod": "pd.DataFrame",
       "ref": "cc0235e4-fa0c-4f29-85b3-493a4d11b842",
       "rows": [
        [
         "0",
         "1",
         "Product Management"
        ],
        [
         "1",
         "2",
         "Sales"
        ],
        [
         "2",
         "3",
         "Research and Development"
        ],
        [
         "3",
         "4",
         "Business Development"
        ],
        [
         "4",
         "5",
         "Engineering"
        ],
        [
         "5",
         "6",
         "Human Resources"
        ],
        [
         "6",
         "7",
         "Services"
        ],
        [
         "7",
         "8",
         "Support"
        ],
        [
         "8",
         "9",
         "Marketing"
        ],
        [
         "9",
         "10",
         "Training"
        ],
        [
         "10",
         "11",
         "Legal"
        ],
        [
         "11",
         "12",
         "Accounting"
        ]
       ],
       "shape": {
        "columns": 2,
        "rows": 12
       }
      },
      "text/html": [
       "<div>\n",
       "<style scoped>\n",
       "    .dataframe tbody tr th:only-of-type {\n",
       "        vertical-align: middle;\n",
       "    }\n",
       "\n",
       "    .dataframe tbody tr th {\n",
       "        vertical-align: top;\n",
       "    }\n",
       "\n",
       "    .dataframe thead th {\n",
       "        text-align: right;\n",
       "    }\n",
       "</style>\n",
       "<table border=\"1\" class=\"dataframe\">\n",
       "  <thead>\n",
       "    <tr style=\"text-align: right;\">\n",
       "      <th></th>\n",
       "      <th>id</th>\n",
       "      <th>department</th>\n",
       "    </tr>\n",
       "  </thead>\n",
       "  <tbody>\n",
       "    <tr>\n",
       "      <th>0</th>\n",
       "      <td>1</td>\n",
       "      <td>Product Management</td>\n",
       "    </tr>\n",
       "    <tr>\n",
       "      <th>1</th>\n",
       "      <td>2</td>\n",
       "      <td>Sales</td>\n",
       "    </tr>\n",
       "    <tr>\n",
       "      <th>2</th>\n",
       "      <td>3</td>\n",
       "      <td>Research and Development</td>\n",
       "    </tr>\n",
       "    <tr>\n",
       "      <th>3</th>\n",
       "      <td>4</td>\n",
       "      <td>Business Development</td>\n",
       "    </tr>\n",
       "    <tr>\n",
       "      <th>4</th>\n",
       "      <td>5</td>\n",
       "      <td>Engineering</td>\n",
       "    </tr>\n",
       "    <tr>\n",
       "      <th>5</th>\n",
       "      <td>6</td>\n",
       "      <td>Human Resources</td>\n",
       "    </tr>\n",
       "    <tr>\n",
       "      <th>6</th>\n",
       "      <td>7</td>\n",
       "      <td>Services</td>\n",
       "    </tr>\n",
       "    <tr>\n",
       "      <th>7</th>\n",
       "      <td>8</td>\n",
       "      <td>Support</td>\n",
       "    </tr>\n",
       "    <tr>\n",
       "      <th>8</th>\n",
       "      <td>9</td>\n",
       "      <td>Marketing</td>\n",
       "    </tr>\n",
       "    <tr>\n",
       "      <th>9</th>\n",
       "      <td>10</td>\n",
       "      <td>Training</td>\n",
       "    </tr>\n",
       "    <tr>\n",
       "      <th>10</th>\n",
       "      <td>11</td>\n",
       "      <td>Legal</td>\n",
       "    </tr>\n",
       "    <tr>\n",
       "      <th>11</th>\n",
       "      <td>12</td>\n",
       "      <td>Accounting</td>\n",
       "    </tr>\n",
       "  </tbody>\n",
       "</table>\n",
       "</div>"
      ],
      "text/plain": [
       "    id                department\n",
       "0    1        Product Management\n",
       "1    2                     Sales\n",
       "2    3  Research and Development\n",
       "3    4      Business Development\n",
       "4    5               Engineering\n",
       "5    6           Human Resources\n",
       "6    7                  Services\n",
       "7    8                   Support\n",
       "8    9                 Marketing\n",
       "9   10                  Training\n",
       "10  11                     Legal\n",
       "11  12                Accounting"
      ]
     },
     "metadata": {},
     "output_type": "display_data"
    }
   ],
   "source": [
    "# Ejemplo: leemos la tabla completa de departamentos\n",
    "df_departments = pd.read_sql_query(\"SELECT * FROM departments\", engine)\n",
    "display(df_departments)"
   ]
  },
  {
   "cell_type": "code",
   "execution_count": 8,
   "metadata": {},
   "outputs": [
    {
     "data": {
      "application/vnd.microsoft.datawrangler.viewer.v0+json": {
       "columns": [
        {
         "name": "index",
         "rawType": "int64",
         "type": "integer"
        },
        {
         "name": "department",
         "rawType": "object",
         "type": "string"
        },
        {
         "name": "job",
         "rawType": "object",
         "type": "string"
        },
        {
         "name": "Q1",
         "rawType": "int64",
         "type": "integer"
        },
        {
         "name": "Q2",
         "rawType": "int64",
         "type": "integer"
        },
        {
         "name": "Q3",
         "rawType": "int64",
         "type": "integer"
        },
        {
         "name": "Q4",
         "rawType": "int64",
         "type": "integer"
        }
       ],
       "conversionMethod": "pd.DataFrame",
       "ref": "3b65209b-6716-4fce-a39c-df91e1db7fa1",
       "rows": [
        [
         "0",
         "Accounting",
         "Account Representative IV",
         "1",
         "0",
         "0",
         "0"
        ],
        [
         "1",
         "Accounting",
         "Actuary",
         "0",
         "1",
         "0",
         "0"
        ],
        [
         "2",
         "Accounting",
         "Analyst Programmer",
         "0",
         "0",
         "1",
         "0"
        ],
        [
         "3",
         "Accounting",
         "Budget/Accounting Analyst III",
         "0",
         "1",
         "0",
         "0"
        ],
        [
         "4",
         "Accounting",
         "Cost Accountant",
         "0",
         "1",
         "0",
         "0"
        ],
        [
         "5",
         "Accounting",
         "Database Administrator III",
         "0",
         "0",
         "0",
         "1"
        ],
        [
         "6",
         "Accounting",
         "Desktop Support Technician",
         "0",
         "0",
         "1",
         "0"
        ],
        [
         "7",
         "Accounting",
         "Food Chemist",
         "1",
         "0",
         "0",
         "0"
        ],
        [
         "8",
         "Accounting",
         "Graphic Designer",
         "0",
         "1",
         "0",
         "0"
        ],
        [
         "9",
         "Accounting",
         "Health Coach III",
         "0",
         "0",
         "0",
         "1"
        ],
        [
         "10",
         "Accounting",
         "Health Coach IV",
         "0",
         "0",
         "1",
         "0"
        ],
        [
         "11",
         "Accounting",
         "Help Desk Technician",
         "0",
         "0",
         "1",
         "0"
        ],
        [
         "12",
         "Accounting",
         "Junior Executive",
         "0",
         "0",
         "1",
         "0"
        ],
        [
         "13",
         "Accounting",
         "Legal Assistant",
         "0",
         "0",
         "1",
         "1"
        ],
        [
         "14",
         "Accounting",
         "Media Manager III",
         "0",
         "1",
         "0",
         "0"
        ],
        [
         "15",
         "Accounting",
         "Programmer Analyst IV",
         "0",
         "1",
         "1",
         "1"
        ],
        [
         "16",
         "Accounting",
         "Programmer III",
         "0",
         "0",
         "1",
         "0"
        ],
        [
         "17",
         "Accounting",
         "Research Assistant IV",
         "0",
         "0",
         "1",
         "0"
        ],
        [
         "18",
         "Accounting",
         "Sales Representative",
         "1",
         "0",
         "1",
         "0"
        ],
        [
         "19",
         "Accounting",
         "Senior Cost Accountant",
         "0",
         "0",
         "0",
         "1"
        ],
        [
         "20",
         "Accounting",
         "Senior Developer",
         "0",
         "0",
         "0",
         "1"
        ],
        [
         "21",
         "Accounting",
         "Software Test Engineer IV",
         "0",
         "0",
         "1",
         "0"
        ],
        [
         "22",
         "Accounting",
         "Statistician I",
         "0",
         "0",
         "0",
         "1"
        ],
        [
         "23",
         "Accounting",
         "Statistician II",
         "0",
         "0",
         "0",
         "2"
        ],
        [
         "24",
         "Accounting",
         "Structural Analysis Engineer",
         "0",
         "1",
         "2",
         "0"
        ],
        [
         "25",
         "Accounting",
         "VP Accounting",
         "0",
         "0",
         "1",
         "0"
        ],
        [
         "26",
         "Accounting",
         "Web Designer I",
         "0",
         "0",
         "0",
         "1"
        ],
        [
         "27",
         "Accounting",
         "Web Designer III",
         "0",
         "0",
         "0",
         "1"
        ],
        [
         "28",
         "Accounting",
         "Web Developer I",
         "0",
         "1",
         "0",
         "0"
        ],
        [
         "29",
         "Accounting",
         "Web Developer III",
         "0",
         "0",
         "0",
         "2"
        ],
        [
         "30",
         "Business Development",
         "Account Executive",
         "0",
         "2",
         "0",
         "1"
        ],
        [
         "31",
         "Business Development",
         "Account Representative III",
         "0",
         "1",
         "0",
         "0"
        ],
        [
         "32",
         "Business Development",
         "Account Representative IV",
         "0",
         "1",
         "0",
         "1"
        ],
        [
         "33",
         "Business Development",
         "Accountant I",
         "0",
         "0",
         "1",
         "0"
        ],
        [
         "34",
         "Business Development",
         "Accountant IV",
         "0",
         "2",
         "1",
         "0"
        ],
        [
         "35",
         "Business Development",
         "Accounting Assistant I",
         "0",
         "0",
         "1",
         "0"
        ],
        [
         "36",
         "Business Development",
         "Actuary",
         "1",
         "0",
         "1",
         "1"
        ],
        [
         "37",
         "Business Development",
         "Administrative Assistant I",
         "1",
         "0",
         "0",
         "0"
        ],
        [
         "38",
         "Business Development",
         "Administrative Assistant III",
         "1",
         "0",
         "0",
         "0"
        ],
        [
         "39",
         "Business Development",
         "Administrative Officer",
         "0",
         "1",
         "0",
         "0"
        ],
        [
         "40",
         "Business Development",
         "Analog Circuit Design manager",
         "1",
         "2",
         "1",
         "0"
        ],
        [
         "41",
         "Business Development",
         "Analyst Programmer",
         "0",
         "1",
         "0",
         "0"
        ],
        [
         "42",
         "Business Development",
         "Assistant Manager",
         "0",
         "0",
         "0",
         "1"
        ],
        [
         "43",
         "Business Development",
         "Associate Professor",
         "0",
         "0",
         "1",
         "0"
        ],
        [
         "44",
         "Business Development",
         "Automation Specialist I",
         "0",
         "0",
         "0",
         "2"
        ],
        [
         "45",
         "Business Development",
         "Automation Specialist IV",
         "0",
         "1",
         "0",
         "0"
        ],
        [
         "46",
         "Business Development",
         "Biostatistician II",
         "0",
         "0",
         "0",
         "1"
        ],
        [
         "47",
         "Business Development",
         "Biostatistician III",
         "0",
         "0",
         "0",
         "2"
        ],
        [
         "48",
         "Business Development",
         "Budget/Accounting Analyst I",
         "1",
         "0",
         "0",
         "0"
        ],
        [
         "49",
         "Business Development",
         "Budget/Accounting Analyst III",
         "0",
         "1",
         "0",
         "0"
        ]
       ],
       "shape": {
        "columns": 6,
        "rows": 933
       }
      },
      "text/html": [
       "<div>\n",
       "<style scoped>\n",
       "    .dataframe tbody tr th:only-of-type {\n",
       "        vertical-align: middle;\n",
       "    }\n",
       "\n",
       "    .dataframe tbody tr th {\n",
       "        vertical-align: top;\n",
       "    }\n",
       "\n",
       "    .dataframe thead th {\n",
       "        text-align: right;\n",
       "    }\n",
       "</style>\n",
       "<table border=\"1\" class=\"dataframe\">\n",
       "  <thead>\n",
       "    <tr style=\"text-align: right;\">\n",
       "      <th></th>\n",
       "      <th>department</th>\n",
       "      <th>job</th>\n",
       "      <th>Q1</th>\n",
       "      <th>Q2</th>\n",
       "      <th>Q3</th>\n",
       "      <th>Q4</th>\n",
       "    </tr>\n",
       "  </thead>\n",
       "  <tbody>\n",
       "    <tr>\n",
       "      <th>0</th>\n",
       "      <td>Accounting</td>\n",
       "      <td>Account Representative IV</td>\n",
       "      <td>1</td>\n",
       "      <td>0</td>\n",
       "      <td>0</td>\n",
       "      <td>0</td>\n",
       "    </tr>\n",
       "    <tr>\n",
       "      <th>1</th>\n",
       "      <td>Accounting</td>\n",
       "      <td>Actuary</td>\n",
       "      <td>0</td>\n",
       "      <td>1</td>\n",
       "      <td>0</td>\n",
       "      <td>0</td>\n",
       "    </tr>\n",
       "    <tr>\n",
       "      <th>2</th>\n",
       "      <td>Accounting</td>\n",
       "      <td>Analyst Programmer</td>\n",
       "      <td>0</td>\n",
       "      <td>0</td>\n",
       "      <td>1</td>\n",
       "      <td>0</td>\n",
       "    </tr>\n",
       "    <tr>\n",
       "      <th>3</th>\n",
       "      <td>Accounting</td>\n",
       "      <td>Budget/Accounting Analyst III</td>\n",
       "      <td>0</td>\n",
       "      <td>1</td>\n",
       "      <td>0</td>\n",
       "      <td>0</td>\n",
       "    </tr>\n",
       "    <tr>\n",
       "      <th>4</th>\n",
       "      <td>Accounting</td>\n",
       "      <td>Cost Accountant</td>\n",
       "      <td>0</td>\n",
       "      <td>1</td>\n",
       "      <td>0</td>\n",
       "      <td>0</td>\n",
       "    </tr>\n",
       "    <tr>\n",
       "      <th>...</th>\n",
       "      <td>...</td>\n",
       "      <td>...</td>\n",
       "      <td>...</td>\n",
       "      <td>...</td>\n",
       "      <td>...</td>\n",
       "      <td>...</td>\n",
       "    </tr>\n",
       "    <tr>\n",
       "      <th>928</th>\n",
       "      <td>Training</td>\n",
       "      <td>Teacher</td>\n",
       "      <td>0</td>\n",
       "      <td>2</td>\n",
       "      <td>0</td>\n",
       "      <td>0</td>\n",
       "    </tr>\n",
       "    <tr>\n",
       "      <th>929</th>\n",
       "      <td>Training</td>\n",
       "      <td>Technical Writer</td>\n",
       "      <td>0</td>\n",
       "      <td>0</td>\n",
       "      <td>1</td>\n",
       "      <td>0</td>\n",
       "    </tr>\n",
       "    <tr>\n",
       "      <th>930</th>\n",
       "      <td>Training</td>\n",
       "      <td>VP Product Management</td>\n",
       "      <td>1</td>\n",
       "      <td>0</td>\n",
       "      <td>0</td>\n",
       "      <td>0</td>\n",
       "    </tr>\n",
       "    <tr>\n",
       "      <th>931</th>\n",
       "      <td>Training</td>\n",
       "      <td>VP Quality Control</td>\n",
       "      <td>0</td>\n",
       "      <td>1</td>\n",
       "      <td>0</td>\n",
       "      <td>0</td>\n",
       "    </tr>\n",
       "    <tr>\n",
       "      <th>932</th>\n",
       "      <td>Training</td>\n",
       "      <td>Web Developer III</td>\n",
       "      <td>0</td>\n",
       "      <td>1</td>\n",
       "      <td>0</td>\n",
       "      <td>0</td>\n",
       "    </tr>\n",
       "  </tbody>\n",
       "</table>\n",
       "<p>933 rows × 6 columns</p>\n",
       "</div>"
      ],
      "text/plain": [
       "     department                            job  Q1  Q2  Q3  Q4\n",
       "0    Accounting      Account Representative IV   1   0   0   0\n",
       "1    Accounting                        Actuary   0   1   0   0\n",
       "2    Accounting             Analyst Programmer   0   0   1   0\n",
       "3    Accounting  Budget/Accounting Analyst III   0   1   0   0\n",
       "4    Accounting                Cost Accountant   0   1   0   0\n",
       "..          ...                            ...  ..  ..  ..  ..\n",
       "928    Training                        Teacher   0   2   0   0\n",
       "929    Training               Technical Writer   0   0   1   0\n",
       "930    Training          VP Product Management   1   0   0   0\n",
       "931    Training             VP Quality Control   0   1   0   0\n",
       "932    Training              Web Developer III   0   1   0   0\n",
       "\n",
       "[933 rows x 6 columns]"
      ]
     },
     "metadata": {},
     "output_type": "display_data"
    }
   ],
   "source": [
    "\n",
    "\n",
    "# 1.2. Métrica: hires por trimestre (SQL puro adaptado a SQLite)\n",
    "sql = \"\"\"\n",
    "    SELECT\n",
    "      d.department,\n",
    "      j.job,\n",
    "      SUM(CASE WHEN CAST(strftime('%m', he.datetime) AS INTEGER) BETWEEN 1 AND 3 THEN 1 ELSE 0 END) AS Q1,\n",
    "      SUM(CASE WHEN CAST(strftime('%m', he.datetime) AS INTEGER) BETWEEN 4 AND 6 THEN 1 ELSE 0 END) AS Q2,\n",
    "      SUM(CASE WHEN CAST(strftime('%m', he.datetime) AS INTEGER) BETWEEN 7 AND 9 THEN 1 ELSE 0 END) AS Q3,\n",
    "      SUM(CASE WHEN CAST(strftime('%m', he.datetime) AS INTEGER) BETWEEN 10 AND 12 THEN 1 ELSE 0 END) AS Q4\n",
    "    FROM hired_employees he\n",
    "    JOIN departments d ON he.department_id = d.id\n",
    "    JOIN jobs j        ON he.job_id        = j.id\n",
    "    WHERE strftime('%Y', he.datetime) = '2021'\n",
    "    GROUP BY d.department, j.job\n",
    "    ORDER BY d.department, j.job\n",
    "    \"\"\"\n",
    "df_quarters = pd.read_sql_query(sql, engine)\n",
    "display(df_quarters)"
   ]
  },
  {
   "cell_type": "code",
   "execution_count": 9,
   "metadata": {},
   "outputs": [
    {
     "data": {
      "application/vnd.microsoft.datawrangler.viewer.v0+json": {
       "columns": [
        {
         "name": "index",
         "rawType": "int64",
         "type": "integer"
        },
        {
         "name": "id",
         "rawType": "int64",
         "type": "integer"
        },
        {
         "name": "department",
         "rawType": "object",
         "type": "string"
        },
        {
         "name": "hired",
         "rawType": "int64",
         "type": "integer"
        }
       ],
       "conversionMethod": "pd.DataFrame",
       "ref": "4a9d1dbe-762c-4c44-86ca-ff57b6417f17",
       "rows": [
        [
         "0",
         "8",
         "Support",
         "216"
        ],
        [
         "1",
         "5",
         "Engineering",
         "205"
        ],
        [
         "2",
         "6",
         "Human Resources",
         "201"
        ],
        [
         "3",
         "7",
         "Services",
         "200"
        ],
        [
         "4",
         "4",
         "Business Development",
         "185"
        ],
        [
         "5",
         "3",
         "Research and Development",
         "148"
        ],
        [
         "6",
         "9",
         "Marketing",
         "142"
        ]
       ],
       "shape": {
        "columns": 3,
        "rows": 7
       }
      },
      "text/html": [
       "<div>\n",
       "<style scoped>\n",
       "    .dataframe tbody tr th:only-of-type {\n",
       "        vertical-align: middle;\n",
       "    }\n",
       "\n",
       "    .dataframe tbody tr th {\n",
       "        vertical-align: top;\n",
       "    }\n",
       "\n",
       "    .dataframe thead th {\n",
       "        text-align: right;\n",
       "    }\n",
       "</style>\n",
       "<table border=\"1\" class=\"dataframe\">\n",
       "  <thead>\n",
       "    <tr style=\"text-align: right;\">\n",
       "      <th></th>\n",
       "      <th>id</th>\n",
       "      <th>department</th>\n",
       "      <th>hired</th>\n",
       "    </tr>\n",
       "  </thead>\n",
       "  <tbody>\n",
       "    <tr>\n",
       "      <th>0</th>\n",
       "      <td>8</td>\n",
       "      <td>Support</td>\n",
       "      <td>216</td>\n",
       "    </tr>\n",
       "    <tr>\n",
       "      <th>1</th>\n",
       "      <td>5</td>\n",
       "      <td>Engineering</td>\n",
       "      <td>205</td>\n",
       "    </tr>\n",
       "    <tr>\n",
       "      <th>2</th>\n",
       "      <td>6</td>\n",
       "      <td>Human Resources</td>\n",
       "      <td>201</td>\n",
       "    </tr>\n",
       "    <tr>\n",
       "      <th>3</th>\n",
       "      <td>7</td>\n",
       "      <td>Services</td>\n",
       "      <td>200</td>\n",
       "    </tr>\n",
       "    <tr>\n",
       "      <th>4</th>\n",
       "      <td>4</td>\n",
       "      <td>Business Development</td>\n",
       "      <td>185</td>\n",
       "    </tr>\n",
       "    <tr>\n",
       "      <th>5</th>\n",
       "      <td>3</td>\n",
       "      <td>Research and Development</td>\n",
       "      <td>148</td>\n",
       "    </tr>\n",
       "    <tr>\n",
       "      <th>6</th>\n",
       "      <td>9</td>\n",
       "      <td>Marketing</td>\n",
       "      <td>142</td>\n",
       "    </tr>\n",
       "  </tbody>\n",
       "</table>\n",
       "</div>"
      ],
      "text/plain": [
       "   id                department  hired\n",
       "0   8                   Support    216\n",
       "1   5               Engineering    205\n",
       "2   6           Human Resources    201\n",
       "3   7                  Services    200\n",
       "4   4      Business Development    185\n",
       "5   3  Research and Development    148\n",
       "6   9                 Marketing    142"
      ]
     },
     "metadata": {},
     "output_type": "display_data"
    }
   ],
   "source": [
    "sql2 = \"\"\"\n",
    "WITH hires_per_dept AS (\n",
    "  SELECT\n",
    "    d.id,\n",
    "    d.department,\n",
    "    COUNT(*) AS hired\n",
    "  FROM hired_employees he\n",
    "  JOIN departments d ON he.department_id = d.id\n",
    "  WHERE strftime('%Y', he.datetime) = '2021'\n",
    "  GROUP BY d.id, d.department\n",
    "),\n",
    "avg_hires AS (\n",
    "  SELECT AVG(hired) AS mean_hires\n",
    "  FROM hires_per_dept\n",
    ")\n",
    "SELECT\n",
    "  h.id,\n",
    "  h.department,\n",
    "  h.hired\n",
    "FROM hires_per_dept h\n",
    "CROSS JOIN avg_hires a\n",
    "WHERE h.hired > a.mean_hires\n",
    "ORDER BY h.hired DESC;\n",
    "\"\"\"\n",
    "\n",
    "# Ejecutamos la consulta y cargamos el resultado en un DataFrame\n",
    "df_above_mean = pd.read_sql_query(sql2, engine)\n",
    "\n",
    "# Mostramos el resultado\n",
    "display(df_above_mean)"
   ]
  },
  {
   "cell_type": "code",
   "execution_count": 10,
   "metadata": {},
   "outputs": [],
   "source": [
    "db.close()"
   ]
  }
 ],
 "metadata": {
  "kernelspec": {
   "display_name": "Python 3",
   "language": "python",
   "name": "python3"
  },
  "language_info": {
   "codemirror_mode": {
    "name": "ipython",
    "version": 3
   },
   "file_extension": ".py",
   "mimetype": "text/x-python",
   "name": "python",
   "nbconvert_exporter": "python",
   "pygments_lexer": "ipython3",
   "version": "3.10.1"
  }
 },
 "nbformat": 4,
 "nbformat_minor": 2
}
